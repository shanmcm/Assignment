{
  "nbformat": 4,
  "nbformat_minor": 0,
  "metadata": {
    "colab": {
      "name": "Copy of Final_Version_26_01.ipynb",
      "provenance": [],
      "collapsed_sections": []
    },
    "kernelspec": {
      "display_name": "Python 3",
      "name": "python3"
    }
  },
  "cells": [
    {
      "cell_type": "code",
      "metadata": {
        "id": "jVADcveVznDi"
      },
      "source": [
        "#Versioning\r\n",
        "#Version 3: Removed elements for which province/country were NaN\r\n",
        "#Version 2: Removed duplicates based on description and quality (to avoid giving frequent reviews more weight in the training)\r\n",
        "\r\n",
        "#Note to reader: the code was run on Colab"
      ],
      "execution_count": 48,
      "outputs": []
    },
    {
      "cell_type": "code",
      "metadata": {
        "id": "iTOWGDyxyY4U"
      },
      "source": [
        "#Imports\n",
        "import numpy as np\n",
        "import pandas as pd\n",
        "from sklearn.model_selection import train_test_split\n",
        "from sklearn.metrics import r2_score\n",
        "from scipy.sparse import csr_matrix, hstack\n",
        "from sklearn.feature_extraction.text import TfidfVectorizer\n",
        "from sklearn.model_selection import GridSearchCV\n",
        "from sklearn.linear_model import LinearRegression\n",
        "from sklearn.ensemble import VotingRegressor\n",
        "from sklearn.neighbors import KNeighborsRegressor\n",
        "from sklearn.svm import LinearSVR\n",
        "from sklearn import datasets, metrics\n",
        "import matplotlib.pyplot as plt\n",
        "from matplotlib.ticker import PercentFormatter\n",
        "import csv"
      ],
      "execution_count": 49,
      "outputs": []
    },
    {
      "cell_type": "code",
      "metadata": {
        "colab": {
          "base_uri": "https://localhost:8080/"
        },
        "id": "BLPuOQ3cjl1f",
        "outputId": "b6e5cc48-8742-4e23-94c7-af9c18bb2cec"
      },
      "source": [
        "#Get data from repository\r\n",
        "!git clone https://github.com/shanmcm/Assignment"
      ],
      "execution_count": 50,
      "outputs": [
        {
          "output_type": "stream",
          "text": [
            "fatal: destination path 'Assignment' already exists and is not an empty directory.\n"
          ],
          "name": "stdout"
        }
      ]
    },
    {
      "cell_type": "code",
      "metadata": {
        "id": "wtTTN-hldwV0"
      },
      "source": [
        "#Path\r\n",
        "path = 'Assignment/'\r\n",
        "#Train\r\n",
        "data = pd.read_csv(path+'dev.tsv', sep='\\t')\r\n",
        "#Eval\r\n",
        "eval_data = pd.read_csv(path+'eval.tsv', sep='\\t')"
      ],
      "execution_count": 51,
      "outputs": []
    },
    {
      "cell_type": "code",
      "metadata": {
        "colab": {
          "base_uri": "https://localhost:8080/",
          "height": 295
        },
        "id": "xqKwIsaUaMqU",
        "outputId": "400b123e-09ed-4cbc-d41e-866689e65dd6"
      },
      "source": [
        "#Analise the distribution of the quality of wine (gaussian trend)\r\n",
        "plt.figure(figsize=(8,4))\r\n",
        "h = plt.hist(data['quality'], 10, weights=(np.ones(len(data['quality'])) / len(data['quality'])),facecolor='#86bf91', zorder=2, rwidth=0.9)\r\n",
        "plt.xlabel('Wine Quality')\r\n",
        "plt.ylabel('Percentage of Reviews')\r\n",
        "plt.title('Histogram of Wine Quality for the Development Set')\r\n",
        "plt.grid(True)\r\n",
        "plt.gca().yaxis.set_major_formatter(PercentFormatter(1))\r\n",
        "plt.savefig(path+'wine_dev.png')\r\n",
        "plt.show()"
      ],
      "execution_count": 52,
      "outputs": [
        {
          "output_type": "display_data",
          "data": {
            "image/png": "[encoded data removed]",
            "text/plain": [
              "<Figure size 576x288 with 1 Axes>"
            ]
          },
          "metadata": {
            "tags": [],
            "needs_background": "light"
          }
        }
      ]
    },
    {
      "cell_type": "code",
      "metadata": {
        "colab": {
          "base_uri": "https://localhost:8080/"
        },
        "id": "oEhjFtn76HfJ",
        "outputId": "8c711433-6807-4c34-ae1f-007047636fa4"
      },
      "source": [
        "data.info()"
      ],
      "execution_count": 53,
      "outputs": [
        {
          "output_type": "stream",
          "text": [
            "<class 'pandas.core.frame.DataFrame'>\n",
            "RangeIndex: 120744 entries, 0 to 120743\n",
            "Data columns (total 9 columns):\n",
            " #   Column       Non-Null Count   Dtype  \n",
            "---  ------       --------------   -----  \n",
            " 0   country      120739 non-null  object \n",
            " 1   description  120744 non-null  object \n",
            " 2   designation  84226 non-null   object \n",
            " 3   province     120739 non-null  object \n",
            " 4   region_1     100736 non-null  object \n",
            " 5   region_2     48736 non-null   object \n",
            " 6   variety      120744 non-null  object \n",
            " 7   winery       120744 non-null  object \n",
            " 8   quality      120744 non-null  float64\n",
            "dtypes: float64(1), object(8)\n",
            "memory usage: 8.3+ MB\n"
          ],
          "name": "stdout"
        }
      ]
    },
    {
      "cell_type": "code",
      "metadata": {
        "colab": {
          "base_uri": "https://localhost:8080/"
        },
        "id": "ZMfo5ofSnIte",
        "outputId": "1fbb9227-70ab-4caa-fcb6-10a03e7868e3"
      },
      "source": [
        "eval_data.info()"
      ],
      "execution_count": 54,
      "outputs": [
        {
          "output_type": "stream",
          "text": [
            "<class 'pandas.core.frame.DataFrame'>\n",
            "RangeIndex: 30186 entries, 0 to 30185\n",
            "Data columns (total 8 columns):\n",
            " #   Column       Non-Null Count  Dtype \n",
            "---  ------       --------------  ----- \n",
            " 0   country      30186 non-null  object\n",
            " 1   description  30186 non-null  object\n",
            " 2   designation  20969 non-null  object\n",
            " 3   province     30186 non-null  object\n",
            " 4   region_1     25134 non-null  object\n",
            " 5   region_2     12217 non-null  object\n",
            " 6   variety      30186 non-null  object\n",
            " 7   winery       30186 non-null  object\n",
            "dtypes: object(8)\n",
            "memory usage: 1.8+ MB\n"
          ],
          "name": "stdout"
        }
      ]
    },
    {
      "cell_type": "code",
      "metadata": {
        "colab": {
          "base_uri": "https://localhost:8080/",
          "height": 279
        },
        "id": "0jVmOeg4rcPl",
        "outputId": "ca25fba2-1ab3-432c-a824-6f8214da3fd7"
      },
      "source": [
        "data[~data.isna().any(axis=1)].head()"
      ],
      "execution_count": 55,
      "outputs": [
        {
          "output_type": "execute_result",
          "data": {
            "text/html": [
              "<div>\n",
              "<style scoped>\n",
              "    .dataframe tbody tr th:only-of-type {\n",
              "        vertical-align: middle;\n",
              "    }\n",
              "\n",
              "    .dataframe tbody tr th {\n",
              "        vertical-align: top;\n",
              "    }\n",
              "\n",
              "    .dataframe thead th {\n",
              "        text-align: right;\n",
              "    }\n",
              "</style>\n",
              "<table border=\"1\" class=\"dataframe\">\n",
              "  <thead>\n",
              "    <tr style=\"text-align: right;\">\n",
              "      <th></th>\n",
              "      <th>country</th>\n",
              "      <th>description</th>\n",
              "      <th>designation</th>\n",
              "      <th>province</th>\n",
              "      <th>region_1</th>\n",
              "      <th>region_2</th>\n",
              "      <th>variety</th>\n",
              "      <th>winery</th>\n",
              "      <th>quality</th>\n",
              "    </tr>\n",
              "  </thead>\n",
              "  <tbody>\n",
              "    <tr>\n",
              "      <th>7</th>\n",
              "      <td>US</td>\n",
              "      <td>One of the more successful blush wines out the...</td>\n",
              "      <td>Estate Grown</td>\n",
              "      <td>California</td>\n",
              "      <td>Dry Creek Valley</td>\n",
              "      <td>Sonoma</td>\n",
              "      <td>Rosé</td>\n",
              "      <td>Fritz</td>\n",
              "      <td>37.0</td>\n",
              "    </tr>\n",
              "    <tr>\n",
              "      <th>8</th>\n",
              "      <td>US</td>\n",
              "      <td>Although new oak accounts for only 10% of the ...</td>\n",
              "      <td>Vineyard Montage</td>\n",
              "      <td>California</td>\n",
              "      <td>Monterey County</td>\n",
              "      <td>Central Coast</td>\n",
              "      <td>Chardonnay</td>\n",
              "      <td>Cru</td>\n",
              "      <td>45.0</td>\n",
              "    </tr>\n",
              "    <tr>\n",
              "      <th>10</th>\n",
              "      <td>US</td>\n",
              "      <td>Soft, fruity and simple, with upfront flavors ...</td>\n",
              "      <td>Coastal - Private Selection</td>\n",
              "      <td>California</td>\n",
              "      <td>Central Coast</td>\n",
              "      <td>Central Coast</td>\n",
              "      <td>Johannisberg Riesling</td>\n",
              "      <td>Robert Mondavi</td>\n",
              "      <td>24.0</td>\n",
              "    </tr>\n",
              "    <tr>\n",
              "      <th>14</th>\n",
              "      <td>US</td>\n",
              "      <td>Pure Syrah from the best blocks of the estate ...</td>\n",
              "      <td>Seven Hills Vineyard Estate</td>\n",
              "      <td>Washington</td>\n",
              "      <td>Walla Walla Valley (WA)</td>\n",
              "      <td>Columbia Valley</td>\n",
              "      <td>Syrah</td>\n",
              "      <td>L'Ecole No. 41</td>\n",
              "      <td>53.0</td>\n",
              "    </tr>\n",
              "    <tr>\n",
              "      <th>17</th>\n",
              "      <td>US</td>\n",
              "      <td>Give this young Bordeaux blend a good decantin...</td>\n",
              "      <td>Red Rhythm</td>\n",
              "      <td>California</td>\n",
              "      <td>Paso Robles</td>\n",
              "      <td>Central Coast</td>\n",
              "      <td>Bordeaux-style Red Blend</td>\n",
              "      <td>B&amp;E;</td>\n",
              "      <td>46.0</td>\n",
              "    </tr>\n",
              "  </tbody>\n",
              "</table>\n",
              "</div>"
            ],
            "text/plain": [
              "   country  ... quality\n",
              "7       US  ...    37.0\n",
              "8       US  ...    45.0\n",
              "10      US  ...    24.0\n",
              "14      US  ...    53.0\n",
              "17      US  ...    46.0\n",
              "\n",
              "[5 rows x 9 columns]"
            ]
          },
          "metadata": {
            "tags": []
          },
          "execution_count": 55
        }
      ]
    },
    {
      "cell_type": "code",
      "metadata": {
        "colab": {
          "base_uri": "https://localhost:8080/"
        },
        "id": "lANP-UUt7KQe",
        "outputId": "da3e6278-30b0-44fb-fef7-fbf2e031cfc3"
      },
      "source": [
        "data[~data.isna().any(axis=1)].shape[0]"
      ],
      "execution_count": 56,
      "outputs": [
        {
          "output_type": "execute_result",
          "data": {
            "text/plain": [
              "31553"
            ]
          },
          "metadata": {
            "tags": []
          },
          "execution_count": 56
        }
      ]
    },
    {
      "cell_type": "code",
      "metadata": {
        "colab": {
          "base_uri": "https://localhost:8080/",
          "height": 52
        },
        "id": "DQwntXtsy_3e",
        "outputId": "a54534b8-f860-42f1-ced9-3fe967daa9c9"
      },
      "source": [
        "data.iloc[7][1]"
      ],
      "execution_count": 57,
      "outputs": [
        {
          "output_type": "execute_result",
          "data": {
            "application/vnd.google.colaboratory.intrinsic+json": {
              "type": "string"
            },
            "text/plain": [
              "\"One of the more successful blush wines out there, this one's crisp and elegant. It has polished flavors of raspberries, rose petals, gingersnap cookie and peppery spices, and the finish is super-dry. Nice with bouillibaisse, or try with cured meat appetizers.\""
            ]
          },
          "metadata": {
            "tags": []
          },
          "execution_count": 57
        }
      ]
    },
    {
      "cell_type": "code",
      "metadata": {
        "colab": {
          "base_uri": "https://localhost:8080/"
        },
        "id": "pVY3iZIenJM3",
        "outputId": "ff361750-c13f-4f15-94e9-4562b814d4f4"
      },
      "source": [
        "data['quality'].describe()"
      ],
      "execution_count": 58,
      "outputs": [
        {
          "output_type": "execute_result",
          "data": {
            "text/plain": [
              "count    120744.000000\n",
              "mean         46.277852\n",
              "std          11.924781\n",
              "min           0.000000\n",
              "25%          38.000000\n",
              "50%          46.000000\n",
              "75%          55.000000\n",
              "max         100.000000\n",
              "Name: quality, dtype: float64"
            ]
          },
          "metadata": {
            "tags": []
          },
          "execution_count": 58
        }
      ]
    },
    {
      "cell_type": "code",
      "metadata": {
        "colab": {
          "base_uri": "https://localhost:8080/"
        },
        "id": "77qdqsAJeqx6",
        "outputId": "e5882a9a-00a9-4f24-e4a9-cc7f4b9731b3"
      },
      "source": [
        "print(f\"Data has {data.shape[0]} entries\")"
      ],
      "execution_count": 59,
      "outputs": [
        {
          "output_type": "stream",
          "text": [
            "Data has 120744 entries\n"
          ],
          "name": "stdout"
        }
      ]
    },
    {
      "cell_type": "code",
      "metadata": {
        "colab": {
          "base_uri": "https://localhost:8080/"
        },
        "id": "xBoz2BtzmwFQ",
        "outputId": "e73adf83-ee49-4d93-ec81-a26bd34cc869"
      },
      "source": [
        "print(\"(Column Name, # NaN values)\")\r\n",
        "print(\"---------------------------\")\r\n",
        "data.isna().sum()"
      ],
      "execution_count": 60,
      "outputs": [
        {
          "output_type": "stream",
          "text": [
            "(Column Name, # NaN values)\n",
            "---------------------------\n"
          ],
          "name": "stdout"
        },
        {
          "output_type": "execute_result",
          "data": {
            "text/plain": [
              "country            5\n",
              "description        0\n",
              "designation    36518\n",
              "province           5\n",
              "region_1       20008\n",
              "region_2       72008\n",
              "variety            0\n",
              "winery             0\n",
              "quality            0\n",
              "dtype: int64"
            ]
          },
          "metadata": {
            "tags": []
          },
          "execution_count": 60
        }
      ]
    },
    {
      "cell_type": "code",
      "metadata": {
        "colab": {
          "base_uri": "https://localhost:8080/"
        },
        "id": "IIV7-wpXeq9V",
        "outputId": "144e4eef-a739-417d-c9c3-6e4f8f79f3a7"
      },
      "source": [
        "print(\"(Column Name, # Distinct values)\")\r\n",
        "print(\"--------------------------------\")\r\n",
        "data.nunique()"
      ],
      "execution_count": 61,
      "outputs": [
        {
          "output_type": "stream",
          "text": [
            "(Column Name, # Distinct values)\n",
            "--------------------------------\n"
          ],
          "name": "stdout"
        },
        {
          "output_type": "execute_result",
          "data": {
            "text/plain": [
              "country           48\n",
              "description    85005\n",
              "designation    27800\n",
              "province         444\n",
              "region_1        1206\n",
              "region_2          18\n",
              "variety          603\n",
              "winery         14105\n",
              "quality           86\n",
              "dtype: int64"
            ]
          },
          "metadata": {
            "tags": []
          },
          "execution_count": 61
        }
      ]
    },
    {
      "cell_type": "code",
      "metadata": {
        "colab": {
          "base_uri": "https://localhost:8080/"
        },
        "id": "1xR1BaeGezg-",
        "outputId": "3effee8b-38fb-4ca9-dfeb-93790f86acc8"
      },
      "source": [
        "(data[(data['region_1'].isna()) & (data['region_2'].isna())].index==data[data['region_1'].isna()].index).all()"
      ],
      "execution_count": 62,
      "outputs": [
        {
          "output_type": "execute_result",
          "data": {
            "text/plain": [
              "True"
            ]
          },
          "metadata": {
            "tags": []
          },
          "execution_count": 62
        }
      ]
    },
    {
      "cell_type": "code",
      "metadata": {
        "colab": {
          "base_uri": "https://localhost:8080/"
        },
        "id": "QOUx0s8CvIla",
        "outputId": "5bf81fb4-d3fb-41c5-846c-f847d90a474c"
      },
      "source": [
        "(data[data['province'].isna()].index==data[data['country'].isna()].index).all()"
      ],
      "execution_count": 63,
      "outputs": [
        {
          "output_type": "execute_result",
          "data": {
            "text/plain": [
              "True"
            ]
          },
          "metadata": {
            "tags": []
          },
          "execution_count": 63
        }
      ]
    },
    {
      "cell_type": "markdown",
      "metadata": {
        "id": "dwgroBL3e8GY"
      },
      "source": [
        "This inspection suggests we discard region_2 (which has many missing values and is in relation to region_1) and country, since province is more detailes and has the same number of missing values"
      ]
    },
    {
      "cell_type": "code",
      "metadata": {
        "colab": {
          "base_uri": "https://localhost:8080/"
        },
        "id": "iKGcdBtbvdL-",
        "outputId": "7ebdaf4e-0370-4698-80d6-4e34eb5968db"
      },
      "source": [
        "#Eliminate 5 NaN values of country (or equivalently province)\r\n",
        "data=data[data['country'].notna()]\r\n",
        "data.isna().sum()"
      ],
      "execution_count": 64,
      "outputs": [
        {
          "output_type": "execute_result",
          "data": {
            "text/plain": [
              "country            0\n",
              "description        0\n",
              "designation    36518\n",
              "province           0\n",
              "region_1       20003\n",
              "region_2       72003\n",
              "variety            0\n",
              "winery             0\n",
              "quality            0\n",
              "dtype: int64"
            ]
          },
          "metadata": {
            "tags": []
          },
          "execution_count": 64
        }
      ]
    },
    {
      "cell_type": "code",
      "metadata": {
        "colab": {
          "base_uri": "https://localhost:8080/",
          "height": 279
        },
        "id": "amkiBrVetnIV",
        "outputId": "52b13ea7-552d-4b77-8412-2218651f2b20"
      },
      "source": [
        "#There are duplicates of reviews\r\n",
        "d='A little bit funky and unsettled when you pop the screwcap, but soon it finds its floral, blueberry base. Remains superficial and sweet in the mouth, with candied flavors, vanilla and mild oak. Highly regular; could use more concentration and density.'\r\n",
        "data[data['description']==d].head() "
      ],
      "execution_count": 65,
      "outputs": [
        {
          "output_type": "execute_result",
          "data": {
            "text/html": [
              "<div>\n",
              "<style scoped>\n",
              "    .dataframe tbody tr th:only-of-type {\n",
              "        vertical-align: middle;\n",
              "    }\n",
              "\n",
              "    .dataframe tbody tr th {\n",
              "        vertical-align: top;\n",
              "    }\n",
              "\n",
              "    .dataframe thead th {\n",
              "        text-align: right;\n",
              "    }\n",
              "</style>\n",
              "<table border=\"1\" class=\"dataframe\">\n",
              "  <thead>\n",
              "    <tr style=\"text-align: right;\">\n",
              "      <th></th>\n",
              "      <th>country</th>\n",
              "      <th>description</th>\n",
              "      <th>designation</th>\n",
              "      <th>province</th>\n",
              "      <th>region_1</th>\n",
              "      <th>region_2</th>\n",
              "      <th>variety</th>\n",
              "      <th>winery</th>\n",
              "      <th>quality</th>\n",
              "    </tr>\n",
              "  </thead>\n",
              "  <tbody>\n",
              "    <tr>\n",
              "      <th>11236</th>\n",
              "      <td>France</td>\n",
              "      <td>A little bit funky and unsettled when you pop ...</td>\n",
              "      <td>Domaine Vincent Sauvestre Clos de la Platière</td>\n",
              "      <td>Burgundy</td>\n",
              "      <td>Pommard</td>\n",
              "      <td>NaN</td>\n",
              "      <td>Pinot Noir</td>\n",
              "      <td>Maison Jean-Baptiste Béjot</td>\n",
              "      <td>42.0</td>\n",
              "    </tr>\n",
              "    <tr>\n",
              "      <th>15395</th>\n",
              "      <td>France</td>\n",
              "      <td>A little bit funky and unsettled when you pop ...</td>\n",
              "      <td>Domaine Vincent Sauvestre Clos de la Platière</td>\n",
              "      <td>Burgundy</td>\n",
              "      <td>Pommard</td>\n",
              "      <td>NaN</td>\n",
              "      <td>Pinot Noir</td>\n",
              "      <td>Maison Jean-Baptiste Béjot</td>\n",
              "      <td>42.0</td>\n",
              "    </tr>\n",
              "    <tr>\n",
              "      <th>26883</th>\n",
              "      <td>Argentina</td>\n",
              "      <td>A little bit funky and unsettled when you pop ...</td>\n",
              "      <td>NaN</td>\n",
              "      <td>Mendoza Province</td>\n",
              "      <td>Mendoza</td>\n",
              "      <td>NaN</td>\n",
              "      <td>Malbec</td>\n",
              "      <td>Mariana</td>\n",
              "      <td>27.0</td>\n",
              "    </tr>\n",
              "    <tr>\n",
              "      <th>30457</th>\n",
              "      <td>Argentina</td>\n",
              "      <td>A little bit funky and unsettled when you pop ...</td>\n",
              "      <td>NaN</td>\n",
              "      <td>Mendoza Province</td>\n",
              "      <td>Mendoza</td>\n",
              "      <td>NaN</td>\n",
              "      <td>Malbec</td>\n",
              "      <td>Mariana</td>\n",
              "      <td>27.0</td>\n",
              "    </tr>\n",
              "    <tr>\n",
              "      <th>57271</th>\n",
              "      <td>Argentina</td>\n",
              "      <td>A little bit funky and unsettled when you pop ...</td>\n",
              "      <td>NaN</td>\n",
              "      <td>Mendoza Province</td>\n",
              "      <td>Mendoza</td>\n",
              "      <td>NaN</td>\n",
              "      <td>Malbec</td>\n",
              "      <td>Mariana</td>\n",
              "      <td>27.0</td>\n",
              "    </tr>\n",
              "  </tbody>\n",
              "</table>\n",
              "</div>"
            ],
            "text/plain": [
              "         country  ... quality\n",
              "11236     France  ...    42.0\n",
              "15395     France  ...    42.0\n",
              "26883  Argentina  ...    27.0\n",
              "30457  Argentina  ...    27.0\n",
              "57271  Argentina  ...    27.0\n",
              "\n",
              "[5 rows x 9 columns]"
            ]
          },
          "metadata": {
            "tags": []
          },
          "execution_count": 65
        }
      ]
    },
    {
      "cell_type": "markdown",
      "metadata": {
        "id": "O8uC-Ex0uA-A"
      },
      "source": [
        "According to the text of the assignment each entry is supposed to refer to a single review. For this reason reviews for which the description and quality values are equal will be eliminated."
      ]
    },
    {
      "cell_type": "code",
      "metadata": {
        "colab": {
          "base_uri": "https://localhost:8080/"
        },
        "id": "yOtQuV6JtubP",
        "outputId": "d890c741-8926-4281-b3b1-70c082c22af6"
      },
      "source": [
        "#Eliminate duplicates\r\n",
        "print(f\"Initial size of dev: {data.shape[0]}\")\r\n",
        "data.drop_duplicates(subset=['description','quality'], keep='first', inplace=True)\r\n",
        "print(f\"Final size of dev: {data.shape[0]}\")"
      ],
      "execution_count": 66,
      "outputs": [
        {
          "output_type": "stream",
          "text": [
            "Initial size of dev: 120739\n",
            "Final size of dev: 85012\n"
          ],
          "name": "stdout"
        }
      ]
    },
    {
      "cell_type": "code",
      "metadata": {
        "colab": {
          "base_uri": "https://localhost:8080/",
          "height": 140
        },
        "id": "aAsP8uPPs-HM",
        "outputId": "8ae28009-319f-4a78-869c-c100fd1d6366"
      },
      "source": [
        "#Double check\r\n",
        "data[data['description']==d].head() "
      ],
      "execution_count": 67,
      "outputs": [
        {
          "output_type": "execute_result",
          "data": {
            "text/html": [
              "<div>\n",
              "<style scoped>\n",
              "    .dataframe tbody tr th:only-of-type {\n",
              "        vertical-align: middle;\n",
              "    }\n",
              "\n",
              "    .dataframe tbody tr th {\n",
              "        vertical-align: top;\n",
              "    }\n",
              "\n",
              "    .dataframe thead th {\n",
              "        text-align: right;\n",
              "    }\n",
              "</style>\n",
              "<table border=\"1\" class=\"dataframe\">\n",
              "  <thead>\n",
              "    <tr style=\"text-align: right;\">\n",
              "      <th></th>\n",
              "      <th>country</th>\n",
              "      <th>description</th>\n",
              "      <th>designation</th>\n",
              "      <th>province</th>\n",
              "      <th>region_1</th>\n",
              "      <th>region_2</th>\n",
              "      <th>variety</th>\n",
              "      <th>winery</th>\n",
              "      <th>quality</th>\n",
              "    </tr>\n",
              "  </thead>\n",
              "  <tbody>\n",
              "    <tr>\n",
              "      <th>11236</th>\n",
              "      <td>France</td>\n",
              "      <td>A little bit funky and unsettled when you pop ...</td>\n",
              "      <td>Domaine Vincent Sauvestre Clos de la Platière</td>\n",
              "      <td>Burgundy</td>\n",
              "      <td>Pommard</td>\n",
              "      <td>NaN</td>\n",
              "      <td>Pinot Noir</td>\n",
              "      <td>Maison Jean-Baptiste Béjot</td>\n",
              "      <td>42.0</td>\n",
              "    </tr>\n",
              "    <tr>\n",
              "      <th>26883</th>\n",
              "      <td>Argentina</td>\n",
              "      <td>A little bit funky and unsettled when you pop ...</td>\n",
              "      <td>NaN</td>\n",
              "      <td>Mendoza Province</td>\n",
              "      <td>Mendoza</td>\n",
              "      <td>NaN</td>\n",
              "      <td>Malbec</td>\n",
              "      <td>Mariana</td>\n",
              "      <td>27.0</td>\n",
              "    </tr>\n",
              "  </tbody>\n",
              "</table>\n",
              "</div>"
            ],
            "text/plain": [
              "         country  ... quality\n",
              "11236     France  ...    42.0\n",
              "26883  Argentina  ...    27.0\n",
              "\n",
              "[2 rows x 9 columns]"
            ]
          },
          "metadata": {
            "tags": []
          },
          "execution_count": 67
        }
      ]
    },
    {
      "cell_type": "code",
      "metadata": {
        "id": "bTTE-1K7zDef"
      },
      "source": [
        "#Process Data\n",
        "y = data['quality']\n",
        "data = data.fillna('null')\n",
        "eval_data = eval_data.fillna('null')\n",
        "\n",
        "train_description = data['description']\n",
        "eval_description = eval_data['description']\n",
        "train_designation = data['designation']\n",
        "eval_designation = eval_data['designation']"
      ],
      "execution_count": 68,
      "outputs": []
    },
    {
      "cell_type": "code",
      "metadata": {
        "id": "pOMfdBPBcQq9"
      },
      "source": [
        "#Tfidf on description and designation\n",
        "vectorizer = TfidfVectorizer(strip_accents='unicode',min_df=2,max_df=0.9,ngram_range=(1,3),stop_words='english',max_features=None)\n",
        "train_tfidf = vectorizer.fit_transform(train_description)\n",
        "eval_tfidf = vectorizer.transform(eval_description)\n",
        "\n",
        "vectorizer2 = TfidfVectorizer(strip_accents='unicode',min_df=2,max_df=0.9,ngram_range=(1,3),stop_words='english',max_features=None)\n",
        "train_tfidf_2 = vectorizer2.fit_transform(train_designation)\n",
        "eval_tfidf_2 = vectorizer2.transform(eval_designation)"
      ],
      "execution_count": 69,
      "outputs": []
    },
    {
      "cell_type": "code",
      "metadata": {
        "id": "_0z-9D_Sa03X"
      },
      "source": [
        "#Define columns to keep\r\n",
        "columns = ['winery', 'variety', 'province', 'region_1']\r\n",
        "data = data[columns]\r\n",
        "eval_data = eval_data[columns]\r\n",
        "\r\n",
        "#Set eval values to 'remove_me' if value is not present in data (to avoid extra encoding further on)\r\n",
        "for column in columns:\r\n",
        "  item_set = set(data[column])\r\n",
        "  for index, value in enumerate(eval_data[column]):\r\n",
        "    if value not in item_set:\r\n",
        "      eval_data[column][index] = 'remove_me'\r\n",
        "\r\n",
        "training = len(data)\r\n",
        "concatenation = pd.concat([data,eval_data])\r\n",
        "del data, eval_data\r\n",
        "\r\n",
        "#Dummy-encoding (column names that end with 'remove_me' are ignored)\r\n",
        "dummies = pd.get_dummies(concatenation,columns)\r\n",
        "columns = [ column for column in dummies.columns if column[-9:] != 'remove_me']\r\n",
        "x = dummies[:training][columns]\r\n",
        "x_test = dummies[training:][columns]\r\n",
        "\r\n",
        "#Free memory\r\n",
        "del dummies, columns, concatenation"
      ],
      "execution_count": 70,
      "outputs": []
    },
    {
      "cell_type": "code",
      "metadata": {
        "id": "WuYb-9GeOxdq"
      },
      "source": [
        "#Many categorical values => sparse matrices\n",
        "#Compress using csr_matrix from scipy.sparse\n",
        "x = csr_matrix(x)\n",
        "x_test = csr_matrix(x_test)\n",
        "\n",
        "#Define final data to be used to obtain model\n",
        "x = hstack([x,train_tfidf,train_tfidf_2])\n",
        "x_test = hstack([x_test,eval_tfidf,eval_tfidf_2])"
      ],
      "execution_count": 71,
      "outputs": []
    },
    {
      "cell_type": "code",
      "metadata": {
        "id": "Jex8u9UaffI6"
      },
      "source": [
        "#Train Test Split\r\n",
        "x_train, x_val, y_train, y_val = train_test_split(x,y,train_size=0.8, random_state=0)"
      ],
      "execution_count": 72,
      "outputs": []
    },
    {
      "cell_type": "code",
      "metadata": {
        "id": "aC1n2GtFwiN1"
      },
      "source": [
        "#Define score to use\r\n",
        "score='r2'"
      ],
      "execution_count": 73,
      "outputs": []
    },
    {
      "cell_type": "code",
      "metadata": {
        "id": "6bsXVG-oqOYE"
      },
      "source": [
        "#Define function for GridSearch\r\n",
        "def best_regressor(x_train, y_train, x_val, y_val, regressor, score, grid, njobs ):\r\n",
        "  gs = GridSearchCV(regressor, grid, cv=3, scoring=score, n_jobs=njobs, verbose=1)\r\n",
        "  gs.fit(x_train, y_train)\r\n",
        "  print(\"Best parameters set:\")\r\n",
        "  print(gs.best_params_)\r\n",
        "  y_pred = gs.predict(x_val)\r\n",
        "  print(f\"r2 score: {r2_score(y_val,y_pred)}\") \r\n",
        "  return gs"
      ],
      "execution_count": 74,
      "outputs": []
    },
    {
      "cell_type": "code",
      "metadata": {
        "colab": {
          "base_uri": "https://localhost:8080/"
        },
        "id": "MWAvw9NNkqmk",
        "outputId": "16b72ad4-b0f0-4187-963c-f55bd0de1d00"
      },
      "source": [
        "#Baseline LR\r\n",
        "lr = LinearRegression()\r\n",
        "lr.fit(x_train,y_train)\r\n",
        "y_pred = lr.predict(x_val)\r\n",
        "r2_score(y_val,y_pred) "
      ],
      "execution_count": 75,
      "outputs": [
        {
          "output_type": "execute_result",
          "data": {
            "text/plain": [
              "0.7326975313569026"
            ]
          },
          "metadata": {
            "tags": []
          },
          "execution_count": 75
        }
      ]
    },
    {
      "cell_type": "code",
      "metadata": {
        "colab": {
          "base_uri": "https://localhost:8080/"
        },
        "id": "nQUEk38ZvgKc",
        "outputId": "92626246-66bd-4b05-8b16-06811fc80646"
      },
      "source": [
        "#Hyperparameter tuning for LR\r\n",
        "fit_intercept=[True,False]\r\n",
        "normalize=[True,False]\r\n",
        "n_jobs=[-1]\r\n",
        "grid = {'fit_intercept':fit_intercept,\r\n",
        "        'normalize':normalize,\r\n",
        "        'n_jobs':n_jobs}\r\n",
        "regressor = LinearRegression()\r\n",
        "njobs=-1\r\n",
        "best_lr = best_regressor(x_train, y_train, x_val, y_val, regressor, score, grid, njobs)\r\n",
        "lr = LinearRegression(**best_lr.best_params_) #0.732"
      ],
      "execution_count": 76,
      "outputs": [
        {
          "output_type": "stream",
          "text": [
            "Fitting 3 folds for each of 4 candidates, totalling 12 fits\n"
          ],
          "name": "stdout"
        },
        {
          "output_type": "stream",
          "text": [
            "[Parallel(n_jobs=-1)]: Using backend LokyBackend with 2 concurrent workers.\n",
            "[Parallel(n_jobs=-1)]: Done  12 out of  12 | elapsed:  4.1min finished\n"
          ],
          "name": "stderr"
        },
        {
          "output_type": "stream",
          "text": [
            "Best parameters set:\n",
            "{'fit_intercept': True, 'n_jobs': -1, 'normalize': False}\n",
            "r2 score: 0.7326975313569026\n"
          ],
          "name": "stdout"
        }
      ]
    },
    {
      "cell_type": "code",
      "metadata": {
        "colab": {
          "base_uri": "https://localhost:8080/"
        },
        "id": "5C2VUQ-KfVVO",
        "outputId": "c32832cb-2205-4ba6-b063-c36705937338"
      },
      "source": [
        "#Baseline SVR\r\n",
        "svr = LinearSVR()\r\n",
        "svr.fit(x_train,y_train)\r\n",
        "y_pred = svr.predict(x_val)\r\n",
        "r2_score(y_val,y_pred) "
      ],
      "execution_count": 77,
      "outputs": [
        {
          "output_type": "execute_result",
          "data": {
            "text/plain": [
              "0.7233363996063572"
            ]
          },
          "metadata": {
            "tags": []
          },
          "execution_count": 77
        }
      ]
    },
    {
      "cell_type": "code",
      "metadata": {
        "colab": {
          "base_uri": "https://localhost:8080/"
        },
        "id": "ao1EZV6RVW24",
        "outputId": "f038dc7f-8beb-484e-89aa-bccf3726e77b"
      },
      "source": [
        "#Hyperparameter tuning for SVR\r\n",
        "C=[1, 10, 100, 1000]\r\n",
        "loss=['epsilon_insensitive','squared_epsilon_insensitive']\r\n",
        "fit_intercept=[True,False]\r\n",
        "dual=[True,False]\r\n",
        "grid = {'C':C,\r\n",
        "        'loss':loss,\r\n",
        "        'fit_intercept':fit_intercept,\r\n",
        "        'dual':dual}\r\n",
        "regressor = LinearSVR()\r\n",
        "njobs=-1\r\n",
        "best_svr = best_regressor(x_train, y_train, x_val, y_val, regressor, score, grid, njobs)\r\n",
        "svr = LinearSVR(**best_svr.best_params_) #0.764"
      ],
      "execution_count": 78,
      "outputs": [
        {
          "output_type": "stream",
          "text": [
            "Fitting 3 folds for each of 32 candidates, totalling 96 fits\n"
          ],
          "name": "stdout"
        },
        {
          "output_type": "stream",
          "text": [
            "[Parallel(n_jobs=-1)]: Using backend LokyBackend with 2 concurrent workers.\n",
            "[Parallel(n_jobs=-1)]: Done  46 tasks      | elapsed:  1.7min\n",
            "[Parallel(n_jobs=-1)]: Done  96 out of  96 | elapsed:  7.9min finished\n"
          ],
          "name": "stderr"
        },
        {
          "output_type": "stream",
          "text": [
            "Best parameters set:\n",
            "{'C': 1, 'dual': False, 'fit_intercept': True, 'loss': 'squared_epsilon_insensitive'}\n",
            "r2 score: 0.7643078699945546\n"
          ],
          "name": "stdout"
        }
      ]
    },
    {
      "cell_type": "code",
      "metadata": {
        "colab": {
          "base_uri": "https://localhost:8080/"
        },
        "id": "I960aYF9e2vL",
        "outputId": "4e2254b3-cec1-4b05-e803-5fb63b7f9c51"
      },
      "source": [
        "#Baseline KN\r\n",
        "knn = KNeighborsRegressor()\r\n",
        "knn.fit(x_train,y_train)\r\n",
        "y_pred = knn.predict(x_val)\r\n",
        "r2_score(y_val,y_pred)"
      ],
      "execution_count": 79,
      "outputs": [
        {
          "output_type": "execute_result",
          "data": {
            "text/plain": [
              "0.6716161683040854"
            ]
          },
          "metadata": {
            "tags": []
          },
          "execution_count": 79
        }
      ]
    },
    {
      "cell_type": "code",
      "metadata": {
        "colab": {
          "base_uri": "https://localhost:8080/"
        },
        "id": "fV3jkk5LvurH",
        "outputId": "cca18682-8ea9-4a40-b3bb-8088784d558b"
      },
      "source": [
        "#Hyperparameter tuning for KN\r\n",
        "n_neighbors=[3,4,5]\r\n",
        "weights=['uniform','distance']\r\n",
        "algorithm = ['brute'] #cannot use BallTree or KDTree with sparse input \r\n",
        "#leaf_size=[20,30,40]\r\n",
        "grid = {'n_neighbors': n_neighbors,\r\n",
        "        'weights': weights,\r\n",
        "        'algorithm': algorithm}\r\n",
        "        #'leaf_size':leaf_size}\r\n",
        "regressor = KNeighborsRegressor()\r\n",
        "njobs=1 #to avoid memory leak\r\n",
        "best_knn = best_regressor(x_train, y_train, x_val, y_val, regressor, score, grid, njobs)\r\n",
        "knn=KNeighborsRegressor(**best_knn.best_params_) #0.685"
      ],
      "execution_count": 81,
      "outputs": [
        {
          "output_type": "stream",
          "text": [
            "Fitting 3 folds for each of 6 candidates, totalling 18 fits\n"
          ],
          "name": "stdout"
        },
        {
          "output_type": "stream",
          "text": [
            "[Parallel(n_jobs=1)]: Using backend SequentialBackend with 1 concurrent workers.\n",
            "[Parallel(n_jobs=1)]: Done  18 out of  18 | elapsed: 13.2min finished\n"
          ],
          "name": "stderr"
        },
        {
          "output_type": "stream",
          "text": [
            "Best parameters set:\n",
            "{'algorithm': 'brute', 'n_neighbors': 5, 'weights': 'distance'}\n",
            "r2 score: 0.6858547897574844\n"
          ],
          "name": "stdout"
        }
      ]
    },
    {
      "cell_type": "code",
      "metadata": {
        "id": "WhUq9ym-3AOS",
        "colab": {
          "base_uri": "https://localhost:8080/"
        },
        "outputId": "041cbb68-a249-4c51-bae2-9f0db37b9c26"
      },
      "source": [
        "#Final model\r\n",
        "model = VotingRegressor([('lr', lr),('svm', svr), ('knn', knn)])\r\n",
        "model.fit(x_train,y_train)\r\n",
        "y_pred = model.predict(x_val)\r\n",
        "r2_score(y_val,y_pred) #0.773"
      ],
      "execution_count": 82,
      "outputs": [
        {
          "output_type": "execute_result",
          "data": {
            "text/plain": [
              "0.7738460509600938"
            ]
          },
          "metadata": {
            "tags": []
          },
          "execution_count": 82
        }
      ]
    },
    {
      "cell_type": "code",
      "metadata": {
        "id": "G6tD5c23fr86"
      },
      "source": [
        "#Predict \r\n",
        "model.fit(x,y)\r\n",
        "y_test = model.predict(x_test)"
      ],
      "execution_count": 83,
      "outputs": []
    },
    {
      "cell_type": "code",
      "metadata": {
        "id": "4HPC0soBfwbI"
      },
      "source": [
        "#Save results in CSV file\r\n",
        "with open(path+'submission_final.csv', mode='w') as file:\r\n",
        "    writer = csv.writer(file, delimiter=',',lineterminator='\\r', quotechar='\"', quoting=csv.QUOTE_NONE)\r\n",
        "    writer.writerow(['Id', 'Predicted'])  \r\n",
        "    for i in range(len(y_test)):\r\n",
        "        writer.writerow([i, y_test[i]])"
      ],
      "execution_count": 84,
      "outputs": []
    },
    {
      "cell_type": "code",
      "metadata": {
        "id": "JXBUhaS8VNlg",
        "colab": {
          "base_uri": "https://localhost:8080/",
          "height": 295
        },
        "outputId": "90a73d08-1d9c-4021-8a49-50ab5cbf0a30"
      },
      "source": [
        "#Analise the distribution of the quality of wine for evaluation set\r\n",
        "plt.figure(figsize=(8,4))\r\n",
        "h = plt.hist(y_test, 10, weights=(np.ones(len(y_test)) / len(y_test)), range=(0,100), facecolor='#ffad56', zorder=2, rwidth=0.9)\r\n",
        "plt.xlabel('Wine Quality')\r\n",
        "plt.ylabel('Percentage of Reviews')\r\n",
        "plt.title('Histogram of Wine Quality for the Evaluation Set')\r\n",
        "plt.grid(True)\r\n",
        "plt.gca().yaxis.set_major_formatter(PercentFormatter(1))\r\n",
        "plt.savefig(path+'wine_ev.png')\r\n",
        "plt.show()"
      ],
      "execution_count": 85,
      "outputs": [
        {
          "output_type": "display_data",
          "data": {
            "image/png": "[encoded data removed]",
            "text/plain": [
              "<Figure size 576x288 with 1 Axes>"
            ]
          },
          "metadata": {
            "tags": [],
            "needs_background": "light"
          }
        }
      ]
    }
  ]
}